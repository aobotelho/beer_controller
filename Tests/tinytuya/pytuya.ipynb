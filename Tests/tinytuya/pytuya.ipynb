{
 "cells": [
  {
   "cell_type": "code",
   "execution_count": 1,
   "metadata": {},
   "outputs": [
    {
     "name": "stderr",
     "output_type": "stream",
     "text": [
      "/Users/andre/Documents/beer_controller/.env/lib/python3.9/site-packages/urllib3/__init__.py:35: NotOpenSSLWarning: urllib3 v2 only supports OpenSSL 1.1.1+, currently the 'ssl' module is compiled with 'LibreSSL 2.8.3'. See: https://github.com/urllib3/urllib3/issues/3020\n",
      "  warnings.warn(\n"
     ]
    }
   ],
   "source": [
    "import tinytuya"
   ]
  },
  {
   "cell_type": "code",
   "execution_count": null,
   "metadata": {},
   "outputs": [],
   "source": []
  },
  {
   "cell_type": "code",
   "execution_count": 2,
   "metadata": {},
   "outputs": [
    {
     "name": "stdout",
     "output_type": "stream",
     "text": [
      "/Users/andre/Documents/beer_controller/.env/lib/python3.9/site-packages/urllib3/__init__.py:35: NotOpenSSLWarning: urllib3 v2 only supports OpenSSL 1.1.1+, currently the 'ssl' module is compiled with 'LibreSSL 2.8.3'. See: https://github.com/urllib3/urllib3/issues/3020\n",
      "  warnings.warn(\n",
      "\n",
      "TinyTuya (Tuya device scanner) [1.15.1]\n",
      "\n",
      "Scanning on UDP ports 6666 and 6667 and 7000 for devices for 18 seconds...\n",
      "\n",
      "New Broadcast from App at 192.168.68.117            - {'from': 'app', 'ip': '192.168.68.117'}\n",
      "Unknown v3.3 Device                                   Product ID = keym9qkuywghyrvs  [Valid Broadcast]:\n",
      "    Address = 192.168.68.102   Device ID = eb8236ab63b0617ab5ppi1 (len:22)  Local Key =   Version = 3.3  Type = default, MAC = \n",
      "    No Stats for 192.168.68.102: DEVICE KEY required to poll for status\n",
      "Unknown v3.3 Device                                   Product ID = keym9qkuywghyrvs  [Valid Broadcast]:\n",
      "    Address = 192.168.68.101   Device ID = eb2cde63526790192dk8lp (len:22)  Local Key =   Version = 3.3  Type = default, MAC = \n",
      "    No Stats for 192.168.68.101: DEVICE KEY required to poll for status\n",
      "New Broadcast from App at 192.168.68.123            - {'from': 'app', 'ip': '192.168.68.123'}\n",
      "Unknown v3.4 Device                                   Product ID = key5ckdnys3pqgec  [Valid Broadcast]:\n",
      "    Address = 192.168.68.106   Device ID = ebc411ee703cc460dbo7oo (len:22)  Local Key =   Version = 3.4  Type = default, MAC = \n",
      "    No Stats for 192.168.68.106: DEVICE KEY required to poll for status\n",
      "Unknown v3.4 Device                                   Product ID = key5ckdnys3pqgec  [Valid Broadcast]:\n",
      "    Address = 192.168.68.112   Device ID = ebaa9e7c4a74aadd3f9al2 (len:22)  Local Key =   Version = 3.4  Type = default, MAC = \n",
      "    No Stats for 192.168.68.112: DEVICE KEY required to poll for status\n",
      "Unknown v3.4 Device                                   Product ID = key5ckdnys3pqgec  [Valid Broadcast]:\n",
      "    Address = 192.168.68.113   Device ID = ebb896a5a17c72f4ecf0lv (len:22)  Local Key =   Version = 3.4  Type = default, MAC = \n",
      "    No Stats for 192.168.68.113: DEVICE KEY required to poll for status\n",
      "Unknown v3.4 Device                                   Product ID = key5ckdnys3pqgec  [Valid Broadcast]:\n",
      "    Address = 192.168.68.107   Device ID = eb5905840e1622f1d2wps0 (len:22)  Local Key =   Version = 3.4  Type = default, MAC = \n",
      "    No Stats for 192.168.68.107: DEVICE KEY required to poll for status\n",
      "Unknown v3.4 Device                                   Product ID = key5ckdnys3pqgec  [Valid Broadcast]:\n",
      "    Address = 192.168.68.110   Device ID = ebc5afa858cfb312d7cekh (len:22)  Local Key =   Version = 3.4  Type = default, MAC = \n",
      "    No Stats for 192.168.68.110: DEVICE KEY required to poll for status\n",
      "Unknown v3.3 Device                                   Product ID = acxgake6tr1wjayx  [Valid Broadcast]:\n",
      "    Address = 192.168.68.115   Device ID = eb5863e377173b61bf33hr (len:22)  Local Key =   Version = 3.3  Type = default, MAC = \n",
      "    No Stats for 192.168.68.115: DEVICE KEY required to poll for status\n",
      "Unknown v3.3 Device                                   Product ID = stquctixxmlehmfp  [Valid Broadcast]:\n",
      "    Address = 192.168.68.114   Device ID = ebc0f7dd4abaa580473prt (len:22)  Local Key =   Version = 3.3  Type = default, MAC = \n",
      "    No Stats for 192.168.68.114: DEVICE KEY required to poll for status\n",
      "Unknown v3.3 Device                                   Product ID = keym9qkuywghyrvs  [Valid Broadcast]:\n",
      "    Address = 192.168.68.109   Device ID = eb39d5f78f1bfd0621thh7 (len:22)  Local Key =   Version = 3.3  Type = default, MAC = \n",
      "    No Stats for 192.168.68.109: DEVICE KEY required to poll for status\n",
      "Scan completed in 18.0344 seconds                 \n",
      "                    \n",
      "Scan Complete!  Found 10 devices.\n",
      "Broadcasted: 10\n",
      "Versions: 3.3: 5, 3.4: 5\n",
      "Unknown Devices: 10\n",
      "\n",
      ">> Saving device snapshot data to snapshot.json\n",
      "\n"
     ]
    }
   ],
   "source": [
    "!tinytuya scan\n"
   ]
  },
  {
   "cell_type": "code",
   "execution_count": 6,
   "metadata": {},
   "outputs": [],
   "source": [
    "device = tinytuya.OutletDevice(\n",
    "    dev_id = 'eb8236ab63b0617ab5ppi1', # Tomada banheiro social\n",
    "    address = '192.168.68.106', # IP\n",
    "    local_key = '', \n",
    "    version = 3.4\n",
    ")"
   ]
  },
  {
   "cell_type": "code",
   "execution_count": 7,
   "metadata": {},
   "outputs": [
    {
     "data": {
      "text/plain": [
       "{'Error': 'Check device key or version', 'Err': '914', 'Payload': None}"
      ]
     },
     "execution_count": 7,
     "metadata": {},
     "output_type": "execute_result"
    }
   ],
   "source": [
    "device.status()\n"
   ]
  },
  {
   "cell_type": "code",
   "execution_count": 5,
   "metadata": {},
   "outputs": [
    {
     "name": "stdout",
     "output_type": "stream",
     "text": [
      "\n",
      "TinyTuya (Tuya device scanner) [1.15.1]\n",
      "\n",
      "Scanning on UDP ports 6666 and 6667 and 7000 for devices for 50 seconds...\n",
      "\n",
      "New Broadcast from App at 192.168.68.117            - {'from': 'app', 'ip': '192.168.68.117'}\n",
      "Unknown v3.3 Device                                   Product ID = keym9qkuywghyrvs  [Valid Broadcast]:\n",
      "    Address = 192.168.68.102   Device ID = eb8236ab63b0617ab5ppi1 (len:22)  Local Key =   Version = 3.3  Type = default, MAC = \n",
      "    No Stats for 192.168.68.102: DEVICE KEY required to poll for status\n",
      "Unknown v3.3 Device                                   Product ID = keym9qkuywghyrvs  [Valid Broadcast]:\n",
      "    Address = 192.168.68.101   Device ID = eb2cde63526790192dk8lp (len:22)  Local Key =   Version = 3.3  Type = default, MAC = \n",
      "    No Stats for 192.168.68.101: DEVICE KEY required to poll for status\n",
      "Unknown v3.4 Device                                   Product ID = key5ckdnys3pqgec  [Valid Broadcast]:\n",
      "    Address = 192.168.68.106   Device ID = ebc411ee703cc460dbo7oo (len:22)  Local Key =   Version = 3.4  Type = default, MAC = \n",
      "    No Stats for 192.168.68.106: DEVICE KEY required to poll for status\n",
      "Unknown v3.3 Device                                   Product ID = keym9qkuywghyrvs  [Valid Broadcast]:\n",
      "    Address = 192.168.68.109   Device ID = eb39d5f78f1bfd0621thh7 (len:22)  Local Key =   Version = 3.3  Type = default, MAC = \n",
      "    No Stats for 192.168.68.109: DEVICE KEY required to poll for status\n",
      "Unknown v3.4 Device                                   Product ID = key5ckdnys3pqgec  [Valid Broadcast]:\n",
      "    Address = 192.168.68.112   Device ID = ebaa9e7c4a74aadd3f9al2 (len:22)  Local Key =   Version = 3.4  Type = default, MAC = \n",
      "    No Stats for 192.168.68.112: DEVICE KEY required to poll for status\n",
      "Unknown v3.4 Device                                   Product ID = key5ckdnys3pqgec  [Valid Broadcast]:\n",
      "    Address = 192.168.68.113   Device ID = ebb896a5a17c72f4ecf0lv (len:22)  Local Key =   Version = 3.4  Type = default, MAC = \n",
      "    No Stats for 192.168.68.113: DEVICE KEY required to poll for status\n",
      "Unknown v3.4 Device                                   Product ID = key5ckdnys3pqgec  [Valid Broadcast]:\n",
      "    Address = 192.168.68.107   Device ID = eb5905840e1622f1d2wps0 (len:22)  Local Key =   Version = 3.4  Type = default, MAC = \n",
      "    No Stats for 192.168.68.107: DEVICE KEY required to poll for status\n",
      "Unknown v3.3 Device                                   Product ID = acxgake6tr1wjayx  [Valid Broadcast]:\n",
      "    Address = 192.168.68.115   Device ID = eb5863e377173b61bf33hr (len:22)  Local Key =   Version = 3.3  Type = default, MAC = \n",
      "    No Stats for 192.168.68.115: DEVICE KEY required to poll for status\n",
      "Unknown v3.3 Device                                   Product ID = stquctixxmlehmfp  [Valid Broadcast]:\n",
      "    Address = 192.168.68.114   Device ID = ebc0f7dd4abaa580473prt (len:22)  Local Key =   Version = 3.3  Type = default, MAC = \n",
      "    No Stats for 192.168.68.114: DEVICE KEY required to poll for status\n",
      "Unknown v3.4 Device                                   Product ID = key5ckdnys3pqgec  [Valid Broadcast]:\n",
      "    Address = 192.168.68.110   Device ID = ebc5afa858cfb312d7cekh (len:22)  Local Key =   Version = 3.4  Type = default, MAC = \n",
      "    No Stats for 192.168.68.110: DEVICE KEY required to poll for status\n",
      "Scan completed in                                   50.0961 seconds\n",
      "                    \n",
      "Scan Complete!  Found 10 devices.\n",
      "Broadcasted: 10\n",
      "Versions: 3.3: 5, 3.4: 5\n",
      "Unknown Devices: 10\n",
      "\n",
      ">> Saving device snapshot data to snapshot.json\n",
      "\n"
     ]
    }
   ],
   "source": [
    "tinytuya.scan(50)\n"
   ]
  }
 ],
 "metadata": {
  "kernelspec": {
   "display_name": ".env",
   "language": "python",
   "name": "python3"
  },
  "language_info": {
   "codemirror_mode": {
    "name": "ipython",
    "version": 3
   },
   "file_extension": ".py",
   "mimetype": "text/x-python",
   "name": "python",
   "nbconvert_exporter": "python",
   "pygments_lexer": "ipython3",
   "version": "3.9.6"
  }
 },
 "nbformat": 4,
 "nbformat_minor": 2
}
